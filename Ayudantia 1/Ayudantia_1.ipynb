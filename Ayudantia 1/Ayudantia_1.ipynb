{
 "cells": [
  {
   "cell_type": "markdown",
   "metadata": {},
   "source": [
    "# Ayudantia 1 - Computacion 2\n",
    "\n",
    "- Jorge Troncoso Morales"
   ]
  },
  {
   "cell_type": "markdown",
   "metadata": {},
   "source": [
    "## Modularidad"
   ]
  },
  {
   "cell_type": "markdown",
   "metadata": {},
   "source": [
    "### Programacion secuencial"
   ]
  },
  {
   "cell_type": "code",
   "execution_count": 33,
   "metadata": {},
   "outputs": [
    {
     "name": "stdout",
     "output_type": "stream",
     "text": [
      "La suma es: 15\n",
      "La resta es: 5\n",
      "La multiplicación es: 50\n",
      "La división es: 2.0\n"
     ]
    }
   ],
   "source": [
    "# Definición de variables en el entorno global\n",
    "a = 10\n",
    "b = 5\n",
    "\n",
    "# Realización de operaciones\n",
    "suma = a + b\n",
    "resta = a - b\n",
    "multiplicacion = a * b\n",
    "division = a / b\n",
    "\n",
    "# Impresión de resultados\n",
    "print(\"La suma es:\", suma)\n",
    "print(\"La resta es:\", resta)\n",
    "print(\"La multiplicación es:\", multiplicacion)\n",
    "print(\"La división es:\", division)"
   ]
  },
  {
   "cell_type": "markdown",
   "metadata": {},
   "source": [
    "Aunque este enfoque parece simple y directo, tiene algunas limitaciones. Cada vez que necesitemos realizar operaciones, debemos repetir el proceso desde el principio. Además, las variables definidas en el entorno global ocupan memoria RAM, lo que podría no ser eficiente en programas más grandes."
   ]
  },
  {
   "cell_type": "markdown",
   "metadata": {},
   "source": [
    "### Programacion modular"
   ]
  },
  {
   "cell_type": "code",
   "execution_count": 34,
   "metadata": {},
   "outputs": [
    {
     "name": "stdout",
     "output_type": "stream",
     "text": [
      "La suma es: 15\n",
      "La resta es: 5\n",
      "La multiplicación es: 50\n",
      "La división es: 2.0\n",
      "La suma es: 19\n",
      "La resta es: 5\n",
      "La multiplicación es: 84\n",
      "La división es: 1.7142857142857142\n",
      "La suma es: 15\n",
      "La resta es: 5\n",
      "La multiplicación es: 50\n",
      "La división es: 2.0\n"
     ]
    }
   ],
   "source": [
    "# Definición de funciones para operaciones matemáticas\n",
    "def suma(a, b):\n",
    "    return a + b\n",
    "\n",
    "\n",
    "def resta(a, b):\n",
    "    return a - b\n",
    "\n",
    "\n",
    "def multiplicacion(a, b):\n",
    "    return a * b\n",
    "\n",
    "\n",
    "def division(a, b):\n",
    "    if b != 0:\n",
    "        return a / b\n",
    "    else:\n",
    "        return \"Error: División por cero\"\n",
    "\n",
    "\n",
    "def realizar_operacioenes(a, b):\n",
    "    resultado_suma = suma(a, b)\n",
    "    resultado_resta = resta(a, b)\n",
    "    resultado_multiplicacion = multiplicacion(a, b)\n",
    "    resultado_division = division(a, b)\n",
    "\n",
    "    return resultado_suma, resultado_resta, resultado_multiplicacion, resultado_division\n",
    "\n",
    "\n",
    "def obtener_resultados(a, b):\n",
    "    # Se alamacenan las varaibles de las operaciones en una Tupla\n",
    "    resultados = realizar_operacioenes(a, b)\n",
    "\n",
    "    print(\"La suma es:\", resultados[0])\n",
    "    print(\"La resta es:\", resultados[1])\n",
    "    print(\"La multiplicación es:\", resultados[2])\n",
    "    print(\"La división es:\", resultados[3])\n",
    "\n",
    "# Primer llamado\n",
    "obtener_resultados(10, 5)\n",
    "\n",
    "# Segundo llamado\n",
    "obtener_resultados(12, 7)\n",
    "\n",
    "# Tercer llamado... etc\n",
    "obtener_resultados(10, 5)"
   ]
  },
  {
   "cell_type": "markdown",
   "metadata": {},
   "source": [
    "Este enfoque modular, aunque requiere un poco más de código inicial, ofrece una solución más robusta y flexible. Las funciones definidas permiten reutilizar operaciones y evitar el uso de variables en el entorno global, lo que promueve una mejor organización y eficiencia del código.\n",
    "\n",
    "La esencia de la programación modular radica en descomponer problemas complejos en partes más manejables y pequeñas. Esto se logra al escribir funciones que realizan tareas específicas, una a la vez."
   ]
  },
  {
   "cell_type": "markdown",
   "metadata": {},
   "source": [
    "## Programacion orientada a objetos"
   ]
  },
  {
   "cell_type": "markdown",
   "metadata": {},
   "source": [
    "### Clases\n",
    "\n",
    "Una clase es un **molde**  que se usa para crear **objetos** (instancias)\n",
    "\n",
    "Para declarar clases se usa `PascalCase` a diferencia de la convencion para el resto de funciones y variables de Python que usa `snake_case`\n",
    "\n",
    "```txt\n",
    "class <nombre-clase>:\n",
    "\t<atributos>\n",
    "\t<metodos>\n",
    "```\n",
    "\n",
    "Atributos: *variables* de la clase\n",
    "\n",
    "Metodos: *funciones* de la clase"
   ]
  },
  {
   "cell_type": "code",
   "execution_count": 36,
   "metadata": {},
   "outputs": [
    {
     "name": "stdout",
     "output_type": "stream",
     "text": [
      "Nombre: Juan\n",
      "Edad: 30\n",
      "Nombre: Juan\n",
      "Edad: 31\n",
      "Total de personas: 2\n",
      "¿Es mayor de edad?: True\n",
      "¿Es mayor de edad?: True\n"
     ]
    }
   ],
   "source": [
    "class Persona:\n",
    "    # Variable estática de clase\n",
    "    contador_personas = 0\n",
    "\n",
    "    # Metodo constructor\n",
    "    def __init__(self, nombre, edad):\n",
    "        self.nombre = nombre\n",
    "        self.edad = edad\n",
    "        # Incrementar el contador de personas cada vez que se crea una nueva instancia\n",
    "        Persona.contador_personas += 1\n",
    "\n",
    "    # Metodo de instancia, usando la variable `self`\n",
    "    def mostrar_informacion(self):\n",
    "        print(f\"Nombre: {self.nombre}\")\n",
    "        print(f\"Edad: {self.edad}\")\n",
    "\n",
    "    def cumpleanos(self):\n",
    "        self.edad += 1\n",
    "\n",
    "    # Metodo de clase, usando la variable `cls`\n",
    "    @classmethod\n",
    "    def contar_personas(cls):\n",
    "        return cls.contador_personas\n",
    "    \n",
    "    # Metodo estatico, sin la necesidad de usar `self`\n",
    "    @staticmethod\n",
    "    def es_mayor_de_edad(edad):\n",
    "        return edad >= 18\n",
    "\n",
    "\n",
    "# Se usa el metodo `cumpleanos()` para sumar +1 a la edad del objeto `persona1`\n",
    "\n",
    "# Crear instancias de la clase Persona\n",
    "persona1 = Persona(\"Juan\", 30)\n",
    "persona2 = Persona(\"María\", 25)\n",
    "\n",
    "# Acceder a los atributos y llamar a los métodos\n",
    "persona1.mostrar_informacion()\n",
    "persona1.cumpleanos()\n",
    "persona1.mostrar_informacion()\n",
    "\n",
    "# Llamar al método de clase para obtener el número total de personas\n",
    "print(\"Total de personas:\", Persona.contar_personas())\n",
    "\n",
    "# Llamar al método estático para verificar si una persona es mayor de edad\n",
    "print(\"¿Es mayor de edad?:\", Persona.es_mayor_de_edad(persona1.edad))\n",
    "print(\"¿Es mayor de edad?:\", Persona.es_mayor_de_edad(persona2.edad))"
   ]
  },
  {
   "cell_type": "markdown",
   "metadata": {},
   "source": [
    "### Elementos de una clase\n",
    "- `__init__` Se llama automáticamente cada vez que se crea una instancia. Su función principal es inicializar los atributos de la instancia con los valores que se deseen\n",
    "- `self` Representa la instancia de la clase y se utiliza para acceder a los métodos y atributos de la instancia.\n",
    "- `@classmethod` Es un **decorador** utilizado para declarar métodos de clase. Estos métodos tienen acceso a la clase en sí a través del parámetro `cls`.\n",
    "- `cls` Es el parámetro convencional utilizado en los métodos de clase para referirse a la clase misma.\n",
    "- `@staticmethod` Es un **decorador** utilizado para declarar métodos estáticos. Estos métodos no reciben una referencia implícita a la instancia o a la clase y se comportan como funciones normales dentro del ámbito de la clase."
   ]
  },
  {
   "cell_type": "markdown",
   "metadata": {},
   "source": [
    "### Encapsulacion\n",
    "Es el principio que consiste en agrupar datos (atributos) y procedimientos (métodos) en unidades lógicas llamadas objetos. La encapsulación también implica ocultar los detalles de implementación de estos objetos, lo que significa que se deben evitar manipular directamente los atributos, en su lugar, se utilizan métodos para acceder y modificar estos atributos, garantizando así un mayor control y seguridad en la manipulación de los datos.\n",
    "\n",
    "En Python la encapsulacion se puede lograr mediante el uso de **modificadores de acceso**.\n",
    "\n",
    "- `_` para variables protegidas\n",
    "- `__` para variables privadas"
   ]
  },
  {
   "cell_type": "code",
   "execution_count": 30,
   "metadata": {},
   "outputs": [
    {
     "name": "stdout",
     "output_type": "stream",
     "text": [
      "¿Existe la variable protegida? True\n",
      "obj._variable_protegida = 10\n",
      "obj._variable_protegida = 5\n",
      "¿Existe la variable privada? False\n",
      "self.___variable_privada = 'Contraseña'\n"
     ]
    }
   ],
   "source": [
    "class ClaseEjemplo:\n",
    "    def __init__(self):\n",
    "        self._variable_protegida = 10\n",
    "        self.___variable_privada = \"Contraseña\"\n",
    "\n",
    "    def mostrar_contrasena(self):\n",
    "        print(f\"{self.___variable_privada = }\")\n",
    "\n",
    "obj = ClaseEjemplo()\n",
    "\n",
    "existe_variable_protegida = hasattr(obj, \"_variable_protegida\")\n",
    "print(f\"¿Existe la variable protegida? {existe_variable_protegida}\")\n",
    "\n",
    "# Aunque no se recomienda, se puede acceder y hasta modificar el atributo\n",
    "print(f\"{obj._variable_protegida = }\")\n",
    "obj._variable_protegida = 5\n",
    "print(f\"{obj._variable_protegida = }\")\n",
    "\n",
    "existe_variable_privada = hasattr(obj, \"__variable_privada\")\n",
    "print(f\"¿Existe la variable privada? {existe_variable_privada}\")\n",
    "\n",
    "# A pesar de haber declarado el atributo `__variable_privada` esta no es reconocida ni accedida desde fuera de la clase\n",
    "\n",
    "# Al ejecutar esto deberia arrojar el error de que el el objeto no tiene el atributo `__variable_privada`\n",
    "# print(obj.__variable_privada)\n",
    "\n",
    "# El atributo solo puede ser accesible y manupulable internamente por el objeto\n",
    "obj.mostrar_contrasena()"
   ]
  },
  {
   "cell_type": "markdown",
   "metadata": {},
   "source": [
    "### Herencia\n",
    "La herencia es un mecanismo que permite evitar la duplicación de código al definir una jerarquía de clases, donde una clase más específica (clase hija) puede heredar atributos y métodos de una clase más general (clase madre). Esto permite reutilizar y extender el comportamiento de las clases existentes, definiendo métodos comunes en la clase madre y métodos específicos en las clases hijas. La herencia fomenta la reutilización del código y facilita la organización y mantenimiento del programa."
   ]
  },
  {
   "cell_type": "code",
   "execution_count": 39,
   "metadata": {},
   "outputs": [
    {
     "name": "stdout",
     "output_type": "stream",
     "text": [
      "perro1.nombre = 'Joy'\n",
      "gato1.nombre = 'Baco'\n",
      "Woof!\n",
      "Meow!\n"
     ]
    }
   ],
   "source": [
    "# Se define la clase madre Animal\n",
    "class Animal:\n",
    "    def __init__(self, nombre):\n",
    "        self.nombre = nombre\n",
    "\n",
    "    def speak(self):\n",
    "        print(\"\")\n",
    "\n",
    "\n",
    "# Se define la clase hija Perro\n",
    "class Perro(Animal):\n",
    "    def speak(self):\n",
    "        print(\"Woof!\")\n",
    "\n",
    "\n",
    "# Se define la clase hija Gato\n",
    "class Gato(Animal):\n",
    "    def speak(self):\n",
    "        print(\"Meow!\")\n",
    "\n",
    "# Todos los objetos creados de la clase hija heredan los atributos de la clase madre `Animal` de tener un nombre\n",
    "perro1 = Perro(\"Joy\")\n",
    "print(f\"{perro1.nombre = }\")\n",
    "\n",
    "gato1 = Gato(\"Baco\")\n",
    "print(f\"{gato1.nombre = }\")\n",
    "\n",
    "perro1.speak()\n",
    "gato1.speak()"
   ]
  },
  {
   "cell_type": "markdown",
   "metadata": {},
   "source": [
    "### Polimorfismo\n",
    "El polimorfismo permite que un mismo método pueda comportarse de diferentes maneras dependiendo del tipo de objeto sobre el que se aplique. Esto se logra redefiniendo los métodos de la clase madre en las clases hijas para adaptar su comportamiento según las necesidades específicas de cada subclase. El polimorfismo facilita la extensibilidad y flexibilidad del código, ya que permite escribir código que pueda manejar diferentes tipos de objetos de manera uniforme."
   ]
  },
  {
   "cell_type": "code",
   "execution_count": 44,
   "metadata": {},
   "outputs": [
    {
     "name": "stdout",
     "output_type": "stream",
     "text": [
      "20\n",
      "153.9335\n"
     ]
    }
   ],
   "source": [
    "# La clase Forna se define con un método abstracto area, que se espera que sea sobrescrito por las subclases.\n",
    "class Forma:\n",
    "    def area(self):\n",
    "        pass\n",
    "\n",
    "\n",
    "class Rectangulo(Forma):\n",
    "    # Se define con los atributos ancho y alto para toda la clase Rectangulo y sus instancias\n",
    "    def __init__(self, ancho, altura):\n",
    "        self.ancho = ancho\n",
    "        self.altura = altura\n",
    "\n",
    "    # Se mantiene el metodo de area, pero se modifica su comportamiento para rectagulos\n",
    "    def area(self):\n",
    "        return self.ancho * self.altura\n",
    "\n",
    "\n",
    "class Circulo(Forma):\n",
    "    # Se define la variable estatica para toda la clase de Circulo\n",
    "    pi = 3.1415\n",
    "\n",
    "    # Se define con el atributo radio para la clase Circulo y sus instancias\n",
    "    def __init__(self, radio):\n",
    "        self.radio = radio  \n",
    "\n",
    "    # Se mantiene el metodo de area, pero se modifica su comportamiento para circulos\n",
    "    def area(self):\n",
    "        return self.pi * self.radio**2\n",
    "\n",
    "\n",
    "formas = [Rectangulo(4, 5), Circulo(7)]  # Crea una lista de objetos Forma\n",
    "\n",
    "for forma in formas:\n",
    "    print(forma.area()) "
   ]
  },
  {
   "cell_type": "markdown",
   "metadata": {},
   "source": [
    "### Abstraccion\n",
    "La abstracción se refiere a la capacidad de una clase para proporcionar una interfaz clara y definida para interactuar con sus objetos, **sin revelar los detalles internos de su implementación**. En otras palabras, un usuario de la clase necesita saber qué hace un método y cómo invocarlo con los parámetros adecuados, pero no necesita conocer los detalles internos de cómo se implementa ese método. Esto permite simplificar la complejidad y facilitar el uso de las clases en un programa.\n",
    "\n",
    "Una clase abstracta es una clase que no puede ser instanciada directamente, sino que esta destinada a ser subclasificada por otras clases."
   ]
  },
  {
   "cell_type": "code",
   "execution_count": 46,
   "metadata": {},
   "outputs": [
    {
     "name": "stdout",
     "output_type": "stream",
     "text": [
      "20\n",
      "153.9335\n"
     ]
    }
   ],
   "source": [
    "# Importa el módulo abc para definir clases y métodos abstractos\n",
    "from abc import ABC, abstractmethod\n",
    "\n",
    "\n",
    "# Se define una clase abstracta llamada Forma que tiene un método abstracto llamado area\n",
    "class Forma(ABC):\n",
    "    @abstractmethod\n",
    "    def area(self):\n",
    "        pass\n",
    "\n",
    "\n",
    "# Se define una clase Rectángulo que hereda de Forma\n",
    "class Rectangulo(Forma):\n",
    "    def __init__(self, ancho, altura):\n",
    "        self.ancho = ancho\n",
    "        self.altura = altura\n",
    "\n",
    "    # Se implementa el método area para Rectángulos\n",
    "    def area(self):\n",
    "        return self.ancho * self.altura\n",
    "\n",
    "\n",
    "# Se define una clase Círculo que también hereda de Forma\n",
    "class Circulo(Forma):\n",
    "    pi = 3.1415\n",
    "\n",
    "    def __init__(self, radio):\n",
    "        self.radio = radio\n",
    "\n",
    "    # Se implementa el método area para Círculos\n",
    "    def area(self):\n",
    "        return self.pi * self.radio**2\n",
    "\n",
    "\n",
    "# Crea una lista de formas que incluye tanto Rectángulos como Círculos\n",
    "formas = [Rectangulo(4, 5), Circulo(7)]\n",
    "\n",
    "# Itera sobre cada forma en la lista e imprime su área\n",
    "for forma in formas:\n",
    "    print(forma.area())"
   ]
  },
  {
   "cell_type": "markdown",
   "metadata": {},
   "source": [
    "## Recursividad\n",
    "\n",
    "La recursividad es la idea de que una función se llame a si misma, eso es todo. Se utiliza para tomar un gran problema y empezar a dividirlo en piezas cada vez mas pequeñas y continuar alimentando sus soluciones de nuevo en función en la función original $f(f(f(...)))$ hasta que se logra algún tipo de respuesta y toda la cadena se desarrolla.\n",
    "\n",
    "Imagina que estás en una habitación y necesitas abrir una caja que está adentro de otra caja. Pero, resulta que dentro de la segunda caja hay otra más pequeña, y así sucesivamente hasta que encuentras la caja que tiene lo que necesitas. En la programación, eso sería como llamar a la misma función para abrir cada caja hasta que llegas a la que tiene lo que buscas.\n",
    "\n",
    "Generalmente cuando se crea una funcion recursiva y luego uno se termina preguntando \"Por que no use un bucle `while` aqui?\", entonces probablemente se debio haber hecho. Esto debido a que la recursividad si bien puede ser util para resolver algunos ejecricios, tambien suele tener ciertas desventajas.\n",
    "\n",
    "Algunos problemas también se descomponen en demasiadas piezas y abruman totalmente la memoria RAM. Para eviar esto Python tiene un limite maximo de recursiones, si se supera Python detendra la ejecucion.\n",
    "\n",
    "```txt\n",
    "              if n==1  : x                  Caso base\n",
    "             /\n",
    "sumar_recursivo(x, n)\n",
    "             \\\n",
    "              else     : x - sumar_recursivo(x, n - 1)  Volverse a llamar a si mismo\n",
    "```"
   ]
  },
  {
   "cell_type": "markdown",
   "metadata": {},
   "source": [
    "\\begin{align*}\n",
    "\\text{sumar}(1) &= 1 \\\\\n",
    "\\text{sumar}(2) &= 2 + 1 = 3 \\\\\n",
    "\\text{sumar}(3) &= 3 + 2 + 1 = 6 \\\\\n",
    "\\text{sumar}(4) &= 4 + 3 + 2 + 1 = 10 \\\\\n",
    "&\\vdots \\\\\n",
    "\\text{sumar}(100) &= 100 + 99 + \\ldots + 2 + 1 = 5050 \\\\\n",
    "\\end{align*}"
   ]
  },
  {
   "cell_type": "code",
   "execution_count": 53,
   "metadata": {},
   "outputs": [],
   "source": [
    "# Libreria para ver calcular el tiempo de ejecucion\n",
    "import time"
   ]
  },
  {
   "cell_type": "markdown",
   "metadata": {},
   "source": [
    "### Bucles\n",
    "\n",
    "Los bucles generalmente suelen ser una solucion suficiente para la mayoria de problemas, ya que selen ser mas eficientes tanto en procesamiento como en memoria\n",
    "\n",
    "- Tener cuidado de no generar bucles infinitos, por eso se debe asegurar de que haya una condicion de salida clara y definida."
   ]
  },
  {
   "cell_type": "code",
   "execution_count": 127,
   "metadata": {},
   "outputs": [
    {
     "name": "stdout",
     "output_type": "stream",
     "text": [
      "500500\n",
      "total_time = 181000\n"
     ]
    }
   ],
   "source": [
    "def sumar_bucle(n):\n",
    "    suma = 0\n",
    "    for i in range(1, n + 1):\n",
    "        suma += i\n",
    "    return suma\n",
    "\n",
    "# Esta parte del codigo se podria hacer con programacion modular\n",
    "start_time = time.perf_counter_ns()\n",
    "print(sumar_bucle(1000))\n",
    "end_time = time.perf_counter_ns()\n",
    "total_time = end_time - start_time\n",
    "print(f\"{total_time = }\")\n"
   ]
  },
  {
   "cell_type": "markdown",
   "metadata": {},
   "source": [
    "### Recursividad\n",
    "Las funciones recursivas, si bien no son las mas eficientes, si pueden ser un primer acercamiento a la solucion de los problemas, ya que muchas veces la solucion en bucle puede ser menos evidente que una recursiva.\n",
    "\n",
    "- Muchas veces su simplicidad pueden ser mas valiosas para tener un codigo limpio y claro, a pesar de no ser lo mas eficiente en terminos de rendimiento\n",
    "- Sin un caso base, la función recursiva continuaría llamándose a sí misma infinitamente, lo que llevaría a un error de *desbordamiento de la pila*. \n",
    "- El papel que tiene la **condicon de salida** de un bucle, es muy similar al del **caso base** de una funcion recursiva."
   ]
  },
  {
   "cell_type": "code",
   "execution_count": 123,
   "metadata": {},
   "outputs": [
    {
     "name": "stdout",
     "output_type": "stream",
     "text": [
      "500500\n",
      "total_time = 371400\n"
     ]
    }
   ],
   "source": [
    "def sumar_recursivo(n):\n",
    "    # Se define un caso base para retornar un resultado\n",
    "    if n == 1:\n",
    "        return 1\n",
    "    \n",
    "    # En caso de no cumplirse el caso base se la funcion se vuelve a llamar a si misma\n",
    "    return n + sumar_recursivo(n - 1)\n",
    "\n",
    "start_time = time.perf_counter_ns()\n",
    "print(sumar_recursivo(1000))\n",
    "end_time = time.perf_counter_ns()\n",
    "total_time = end_time - start_time\n",
    "print(f\"{total_time = }\")"
   ]
  },
  {
   "cell_type": "markdown",
   "metadata": {},
   "source": [
    "### Formulas\n",
    "Sin embargo, la solucion mas optima siempre sera el uso de formulas, ya que el resultado se entrega directamente, sin mas llamados a de funcion ni iteraciones. De ser posible, siempre se debe optar por el uso de formulas."
   ]
  },
  {
   "cell_type": "code",
   "execution_count": 133,
   "metadata": {},
   "outputs": [
    {
     "name": "stdout",
     "output_type": "stream",
     "text": [
      "500500.0\n",
      "total_time = 91000\n"
     ]
    }
   ],
   "source": [
    "def sumar_formula(n):\n",
    "    return n * (n + 1) / 2\n",
    "\n",
    "start_time = time.perf_counter_ns()\n",
    "print(sumar_formula(1000))\n",
    "end_time = time.perf_counter_ns()\n",
    "total_time = end_time - start_time\n",
    "print(f\"{total_time = }\")"
   ]
  }
 ],
 "metadata": {
  "kernelspec": {
   "display_name": "Python 3",
   "language": "python",
   "name": "python3"
  },
  "language_info": {
   "codemirror_mode": {
    "name": "ipython",
    "version": 3
   },
   "file_extension": ".py",
   "mimetype": "text/x-python",
   "name": "python",
   "nbconvert_exporter": "python",
   "pygments_lexer": "ipython3",
   "version": "3.12.2"
  }
 },
 "nbformat": 4,
 "nbformat_minor": 2
}
